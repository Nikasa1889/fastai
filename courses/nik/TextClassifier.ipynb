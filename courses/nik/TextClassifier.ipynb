{
 "cells": [
  {
   "cell_type": "code",
   "execution_count": 1,
   "metadata": {
    "scrolled": true
   },
   "outputs": [],
   "source": [
    "# Put these at the top of every notebook, to get automatic reloading and inline plotting\n",
    "%reload_ext autoreload\n",
    "%autoreload 2\n",
    "%matplotlib inline"
   ]
  },
  {
   "cell_type": "code",
   "execution_count": 48,
   "metadata": {},
   "outputs": [
    {
     "ename": "AttributeError",
     "evalue": "module 'sys' has no attribute 'append'",
     "output_type": "error",
     "traceback": [
      "\u001b[0;31m---------------------------------------------------------------------------\u001b[0m",
      "\u001b[0;31mAttributeError\u001b[0m                            Traceback (most recent call last)",
      "\u001b[0;32m<ipython-input-48-60486b70651c>\u001b[0m in \u001b[0;36m<module>\u001b[0;34m()\u001b[0m\n\u001b[0;32m----> 1\u001b[0;31m \u001b[0msys\u001b[0m\u001b[0;34m.\u001b[0m\u001b[0mappend\u001b[0m\u001b[0;34m(\u001b[0m\u001b[0;34m\"fastai\"\u001b[0m\u001b[0;34m)\u001b[0m\u001b[0;34m\u001b[0m\u001b[0m\n\u001b[0m",
      "\u001b[0;31mAttributeError\u001b[0m: module 'sys' has no attribute 'append'"
     ]
    }
   ],
   "source": [
    "sys.path.append(\"fastai\")"
   ]
  },
  {
   "cell_type": "code",
   "execution_count": 43,
   "metadata": {},
   "outputs": [],
   "source": [
    "from niklib.dataset_matify import MattextDataset\n",
    "from niklib.w2v_model import Word2VecModel\n",
    "from niklib.dataset_text import TextDataset, TextModelData\n",
    "from niklib.processor_text import TextProcessor\n",
    "from niklib.model_text import MaxBiRNN\n",
    "from falib.core import V, T, to_np\n",
    "import torch"
   ]
  },
  {
   "cell_type": "code",
   "execution_count": 44,
   "metadata": {},
   "outputs": [],
   "source": [
    "mattext = MattextDataset.from_pickle(\"./niklib/train.pickle\")\n"
   ]
  },
  {
   "cell_type": "code",
   "execution_count": 40,
   "metadata": {},
   "outputs": [],
   "source": [
    "SEQLEN = 50\n",
    "w2v = Word2VecModel.from_pickle('wiki.no.pickle')\n",
    "ds = TextDataset.from_pickle('niklib/mattext_ds.pk')\n",
    "textproc = TextProcessor(w2v, max_pad = ds.get_seqlen())\n",
    "model = MaxBiRNN(w2v, seqlen=ds.get_seqlen(), n_labels=ds.get_c(),\n",
    "                 hidden_size=300, n_layers=1, p0=0.2, p1=0.2, p2=0.2, p3=0.2)\n",
    "model.load_state_dict(torch.load('niklib/MaxBiRNN.pt'))"
   ]
  },
  {
   "cell_type": "code",
   "execution_count": 41,
   "metadata": {},
   "outputs": [
    {
     "name": "stdout",
     "output_type": "stream",
     "text": [
      "Text length: min=4, max=17, mean=9.4\n",
      "Padding all text to have fixed length = 50\n"
     ]
    },
    {
     "data": {
      "text/plain": [
       "['MeatBalls & Hamburger',\n",
       " 'MeatBalls & Hamburger',\n",
       " 'Pasta and Noodle',\n",
       " 'Take-away meals',\n",
       " 'Fish Cakes',\n",
       " 'Pasta and Noodle',\n",
       " 'Fresh fish',\n",
       " 'Sauces & Dressing',\n",
       " 'Fresh fish',\n",
       " 'Sauces & Dressing']"
      ]
     },
     "execution_count": 41,
     "metadata": {},
     "output_type": "execute_result"
    }
   ],
   "source": [
    "from falib.core import V\n",
    "#Predict\n",
    "texts_test=['The burger Cheesy, original eller spicy. 4 x 80 g. 320 g. Pr kg 155,94', \n",
    "            'Coop svenske kjøttboller 400 g. Pr kg 69,00',\n",
    "            'Barilla spaghetti 1 kg',\n",
    "            'Barilla tagliatelle M/egg. 500 g. Pr kg 77,00',\n",
    "            'Lofoten hjemmelaget fiskegrateng 400 g. Pr kg 195,50 600 Pr',\n",
    "            'Barilla spaghetti fullkorn 1 kg',\n",
    "            'Coop fra havet laksefilet 500 g. Pr kg 159,80',\n",
    "            'Barilla saus classico 400 g. Pr kg 59,75',\n",
    "            'Coop fra havet lettsaltet torskefilet M/skinn. 360 g. Pr kg 147,50',\n",
    "            'Barilla pesto genovese 190 g. Pr kg 157,37']\n",
    "xs = textproc.text2features(texts_test)\n",
    "model.eval()\n",
    "ys = model(V(xs))\n",
    "ys = to_np(ys).argmax(axis=1)\n",
    "labels = [ds.idx2label(y) for y in ys]\n",
    "labels"
   ]
  },
  {
   "cell_type": "code",
   "execution_count": 45,
   "metadata": {},
   "outputs": [],
   "source": [
    "catids = [mattext.catname2catid(label) for label in labels]"
   ]
  },
  {
   "cell_type": "code",
   "execution_count": 46,
   "metadata": {},
   "outputs": [
    {
     "data": {
      "text/plain": [
       "[97, 97, 144, 108, 103, 144, 100, 130, 100, 130]"
      ]
     },
     "execution_count": 46,
     "metadata": {},
     "output_type": "execute_result"
    }
   ],
   "source": [
    "catids"
   ]
  },
  {
   "cell_type": "code",
   "execution_count": null,
   "metadata": {},
   "outputs": [],
   "source": []
  }
 ],
 "metadata": {
  "kernelspec": {
   "display_name": "Python 3",
   "language": "python",
   "name": "python3"
  },
  "language_info": {
   "codemirror_mode": {
    "name": "ipython",
    "version": 3
   },
   "file_extension": ".py",
   "mimetype": "text/x-python",
   "name": "python",
   "nbconvert_exporter": "python",
   "pygments_lexer": "ipython3",
   "version": "3.6.4"
  }
 },
 "nbformat": 4,
 "nbformat_minor": 2
}
