{
 "cells": [
  {
   "cell_type": "code",
   "execution_count": 1,
   "metadata": {},
   "outputs": [],
   "source": [
    "%matplotlib inline\n",
    "%reload_ext autoreload\n",
    "%autoreload 2"
   ]
  },
  {
   "cell_type": "code",
   "execution_count": 2,
   "metadata": {},
   "outputs": [],
   "source": [
    "from fastai.conv_learner import *\n",
    "import numpy as np\n",
    "PATH = Path(\"data/matify/image\")\n",
    "os.makedirs(PATH,exist_ok=True)\n",
    "torch.cuda.set_device(1)"
   ]
  },
  {
   "cell_type": "code",
   "execution_count": 3,
   "metadata": {},
   "outputs": [],
   "source": [
    "from shutil import copy2\n",
    "PATH_SLT = Path(\"data/matify/image_slt\")\n",
    "PATH_SLT_TRN = PATH_SLT/\"train\"\n",
    "PATH_SLT_VAL = PATH_SLT/\"val\"\n",
    "r_test = 0.2\n",
    "PATH_SLT.mkdir(exist_ok=True)\n",
    "PATH_SLT_TRN.mkdir(exist_ok=True)\n",
    "PATH_SLT_VAL.mkdir(exist_ok=True)\n",
    "for cls in PATH.iterdir():\n",
    "    cls_name = cls.name\n",
    "    TRN = PATH_SLT_TRN/cls_name\n",
    "    TRN.mkdir(exist_ok=True)\n",
    "    VAL = PATH_SLT_VAL/cls_name\n",
    "    VAL.mkdir(exist_ok=True)\n",
    "    \n",
    "    imgs = list(cls.iterdir())\n",
    "    idx = np.random.permutation(range(len(imgs)))\n",
    "    slt = int(len(imgs)*0.2)\n",
    "    val_ids = idx[:slt]; trn_ids = idx[slt:]\n",
    "    \n",
    "    for trn_idx in trn_ids:\n",
    "        img_name = imgs[trn_idx].name\n",
    "        (TRN/img_name).symlink_to(imgs[trn_idx].absolute())\n",
    "    for val_idx in val_ids:\n",
    "        img_name = imgs[val_idx].name\n",
    "        (VAL/img_name).symlink_to(imgs[val_idx].absolute())"
   ]
  },
  {
   "cell_type": "code",
   "execution_count": 4,
   "metadata": {},
   "outputs": [
    {
     "name": "stdout",
     "output_type": "stream",
     "text": [
      "100%|██████████| 132/132 [00:19<00:00,  6.93it/s]\n",
      "100%|██████████| 32/32 [00:05<00:00,  6.10it/s]\n"
     ]
    }
   ],
   "source": [
    "# This file contains all the main external libs we'll use\n",
    "from fastai.imports import *\n",
    "\n",
    "from fastai.transforms import *\n",
    "from fastai.conv_learner import *\n",
    "from fastai.model import *\n",
    "from fastai.dataset import *\n",
    "from fastai.sgdr import *\n",
    "from fastai.plots import *\n",
    "\n",
    "PATH = \"data/dogscats/\"\n",
    "sz=299\n",
    "arch=resnext50\n",
    "bs=28\n",
    "tfms = tfms_from_model(arch, sz, aug_tfms=transforms_side_on, max_zoom=1.1)\n",
    "data = ImageClassifierData.from_paths(PATH_SLT, val_name='val', tfms=tfms, bs=bs, num_workers=4)\n",
    "learn = ConvLearner.pretrained(arch, data, precompute=True, ps=0.5)"
   ]
  },
  {
   "cell_type": "code",
   "execution_count": 5,
   "metadata": {},
   "outputs": [
    {
     "data": {
      "application/vnd.jupyter.widget-view+json": {
       "model_id": "743d9314716d4d21aeacc200c632e8fc",
       "version_major": 2,
       "version_minor": 0
      },
      "text/html": [
       "<p>Failed to display Jupyter Widget of type <code>HBox</code>.</p>\n",
       "<p>\n",
       "  If you're reading this message in the Jupyter Notebook or JupyterLab Notebook, it may mean\n",
       "  that the widgets JavaScript is still loading. If this message persists, it\n",
       "  likely means that the widgets JavaScript library is either not installed or\n",
       "  not enabled. See the <a href=\"https://ipywidgets.readthedocs.io/en/stable/user_install.html\">Jupyter\n",
       "  Widgets Documentation</a> for setup instructions.\n",
       "</p>\n",
       "<p>\n",
       "  If you're reading this message in another frontend (for example, a static\n",
       "  rendering on GitHub or <a href=\"https://nbviewer.jupyter.org/\">NBViewer</a>),\n",
       "  it may mean that your frontend doesn't currently support widgets.\n",
       "</p>\n"
      ],
      "text/plain": [
       "HBox(children=(IntProgress(value=0, description='Epoch', max=1), HTML(value='')))"
      ]
     },
     "metadata": {},
     "output_type": "display_data"
    },
    {
     "name": "stdout",
     "output_type": "stream",
     "text": [
      "epoch      trn_loss   val_loss   accuracy                    \n",
      "    0      2.512052   1.828541   0.538721  \n",
      "\n"
     ]
    }
   ],
   "source": [
    "learn.fit(1e-2, 1)\n",
    "learn.precompute=False"
   ]
  },
  {
   "cell_type": "code",
   "execution_count": 6,
   "metadata": {},
   "outputs": [
    {
     "data": {
      "application/vnd.jupyter.widget-view+json": {
       "model_id": "0602d2f0fe1e4ed3a100f364bf75281f",
       "version_major": 2,
       "version_minor": 0
      },
      "text/html": [
       "<p>Failed to display Jupyter Widget of type <code>HBox</code>.</p>\n",
       "<p>\n",
       "  If you're reading this message in the Jupyter Notebook or JupyterLab Notebook, it may mean\n",
       "  that the widgets JavaScript is still loading. If this message persists, it\n",
       "  likely means that the widgets JavaScript library is either not installed or\n",
       "  not enabled. See the <a href=\"https://ipywidgets.readthedocs.io/en/stable/user_install.html\">Jupyter\n",
       "  Widgets Documentation</a> for setup instructions.\n",
       "</p>\n",
       "<p>\n",
       "  If you're reading this message in another frontend (for example, a static\n",
       "  rendering on GitHub or <a href=\"https://nbviewer.jupyter.org/\">NBViewer</a>),\n",
       "  it may mean that your frontend doesn't currently support widgets.\n",
       "</p>\n"
      ],
      "text/plain": [
       "HBox(children=(IntProgress(value=0, description='Epoch', max=2), HTML(value='')))"
      ]
     },
     "metadata": {},
     "output_type": "display_data"
    },
    {
     "name": "stdout",
     "output_type": "stream",
     "text": [
      "epoch      trn_loss   val_loss   accuracy                   \n",
      "    0      1.983989   1.674356   0.566779  \n",
      "    1      1.782623   1.560642   0.612795                   \n",
      "\n"
     ]
    },
    {
     "data": {
      "text/plain": [
       "[array([1.56064]), 0.6127946092491064]"
      ]
     },
     "execution_count": 6,
     "metadata": {},
     "output_type": "execute_result"
    }
   ],
   "source": [
    "learn.fit(1e-2, 2, cycle_len=1)"
   ]
  },
  {
   "cell_type": "code",
   "execution_count": 7,
   "metadata": {},
   "outputs": [],
   "source": [
    "learn.unfreeze()\n",
    "lr=np.array([1e-4,1e-3,1e-2])"
   ]
  },
  {
   "cell_type": "code",
   "execution_count": 8,
   "metadata": {},
   "outputs": [
    {
     "data": {
      "application/vnd.jupyter.widget-view+json": {
       "model_id": "6a8ecfb362d146eca88cf338b53f2723",
       "version_major": 2,
       "version_minor": 0
      },
      "text/html": [
       "<p>Failed to display Jupyter Widget of type <code>HBox</code>.</p>\n",
       "<p>\n",
       "  If you're reading this message in the Jupyter Notebook or JupyterLab Notebook, it may mean\n",
       "  that the widgets JavaScript is still loading. If this message persists, it\n",
       "  likely means that the widgets JavaScript library is either not installed or\n",
       "  not enabled. See the <a href=\"https://ipywidgets.readthedocs.io/en/stable/user_install.html\">Jupyter\n",
       "  Widgets Documentation</a> for setup instructions.\n",
       "</p>\n",
       "<p>\n",
       "  If you're reading this message in another frontend (for example, a static\n",
       "  rendering on GitHub or <a href=\"https://nbviewer.jupyter.org/\">NBViewer</a>),\n",
       "  it may mean that your frontend doesn't currently support widgets.\n",
       "</p>\n"
      ],
      "text/plain": [
       "HBox(children=(IntProgress(value=0, description='Epoch', max=10), HTML(value='')))"
      ]
     },
     "metadata": {},
     "output_type": "display_data"
    },
    {
     "name": "stdout",
     "output_type": "stream",
     "text": [
      "epoch      trn_loss   val_loss   accuracy                   \n",
      "    0      1.704599   1.280638   0.673401  \n",
      "    1      1.193648   1.052215   0.717172                   \n",
      "    2      0.927924   0.947193   0.74523                     \n",
      "    3      0.700896   0.880788   0.776655                    \n",
      "    4      0.539755   0.813714   0.791246                    \n",
      "    5      0.431486   0.821294   0.777778                    \n",
      "    6      0.379475   0.77573    0.794613                    \n",
      "    7      0.319612   0.768474   0.804714                    \n",
      "    8      0.275784   0.753508   0.801347                    \n",
      "    9      0.224121   0.755023   0.811448                    \n",
      "\n"
     ]
    },
    {
     "data": {
      "text/plain": [
       "[array([0.75502]), 0.8114478155284885]"
      ]
     },
     "execution_count": 8,
     "metadata": {},
     "output_type": "execute_result"
    }
   ],
   "source": [
    "learn.fit(lr, 10, cycle_len=1)"
   ]
  },
  {
   "cell_type": "code",
   "execution_count": 10,
   "metadata": {},
   "outputs": [
    {
     "data": {
      "application/vnd.jupyter.widget-view+json": {
       "model_id": "45eb8dbf5bea46ce9080da9fe3d2f365",
       "version_major": 2,
       "version_minor": 0
      },
      "text/html": [
       "<p>Failed to display Jupyter Widget of type <code>HBox</code>.</p>\n",
       "<p>\n",
       "  If you're reading this message in the Jupyter Notebook or JupyterLab Notebook, it may mean\n",
       "  that the widgets JavaScript is still loading. If this message persists, it\n",
       "  likely means that the widgets JavaScript library is either not installed or\n",
       "  not enabled. See the <a href=\"https://ipywidgets.readthedocs.io/en/stable/user_install.html\">Jupyter\n",
       "  Widgets Documentation</a> for setup instructions.\n",
       "</p>\n",
       "<p>\n",
       "  If you're reading this message in another frontend (for example, a static\n",
       "  rendering on GitHub or <a href=\"https://nbviewer.jupyter.org/\">NBViewer</a>),\n",
       "  it may mean that your frontend doesn't currently support widgets.\n",
       "</p>\n"
      ],
      "text/plain": [
       "HBox(children=(IntProgress(value=0, description='Epoch', max=10), HTML(value='')))"
      ]
     },
     "metadata": {},
     "output_type": "display_data"
    },
    {
     "name": "stdout",
     "output_type": "stream",
     "text": [
      "epoch      trn_loss   val_loss   accuracy                     \n",
      "    0      0.078264   0.767854   0.818182  \n",
      "    1      0.090319   0.788411   0.819304                     \n",
      "    2      0.072055   0.786492   0.81257                      \n",
      "    3      0.08997    0.807723   0.813692                     \n",
      "    4      0.073332   0.819845   0.806958                     \n",
      "    5      0.060946   0.809367   0.813692                     \n",
      "    6      0.058102   0.795132   0.81257                      \n",
      "    7      0.07119    0.801705   0.822671                     \n",
      "    8      0.059138   0.803044   0.815937                     \n",
      "    9      0.061958   0.814675   0.811448                     \n",
      "\n"
     ]
    },
    {
     "data": {
      "text/plain": [
       "[array([0.81468]), 0.8114478117822932]"
      ]
     },
     "execution_count": 10,
     "metadata": {},
     "output_type": "execute_result"
    }
   ],
   "source": [
    "learn.fit(lr, 10, cycle_len=1)"
   ]
  },
  {
   "cell_type": "code",
   "execution_count": null,
   "metadata": {},
   "outputs": [],
   "source": []
  }
 ],
 "metadata": {
  "kernelspec": {
   "display_name": "Python 3",
   "language": "python",
   "name": "python3"
  },
  "language_info": {
   "codemirror_mode": {
    "name": "ipython",
    "version": 3
   },
   "file_extension": ".py",
   "mimetype": "text/x-python",
   "name": "python",
   "nbconvert_exporter": "python",
   "pygments_lexer": "ipython3",
   "version": "3.6.4"
  }
 },
 "nbformat": 4,
 "nbformat_minor": 2
}
